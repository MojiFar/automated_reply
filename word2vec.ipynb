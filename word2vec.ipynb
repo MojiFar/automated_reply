{
 "cells": [
  {
   "cell_type": "code",
   "execution_count": 54,
   "metadata": {},
   "outputs": [],
   "source": [
    "import gensim, logging\n",
    "from sklearn.decomposition import PCA\n",
    "import matplotlib.pyplot as plt"
   ]
  },
  {
   "cell_type": "code",
   "execution_count": 42,
   "metadata": {},
   "outputs": [],
   "source": [
    "sentences = [['Hello', 'Could', 'you', 'please', 'provide', 'us', 'order', 'form'],\n",
    "\t\t\t['this', 'is', 'the', 'second', 'sentence'],\n",
    "\t\t\t['yet', 'another', 'sentence'],\n",
    "\t\t\t['one', 'more', 'sentence'],\n",
    "\t\t\t['and', 'the', 'final', 'sentence']]"
   ]
  },
  {
   "cell_type": "code",
   "execution_count": 43,
   "metadata": {},
   "outputs": [],
   "source": [
    "model = gensim.models.Word2Vec(sentences, min_count=1)"
   ]
  },
  {
   "cell_type": "code",
   "execution_count": 44,
   "metadata": {},
   "outputs": [
    {
     "name": "stdout",
     "output_type": "stream",
     "text": [
      "['and', 'Hello', 'form', 'sentence', 'provide', 'Could', 'please', 'us', 'order', 'this', 'second', 'another', 'you', 'the', 'one', 'yet', 'final', 'is', 'more']\n"
     ]
    }
   ],
   "source": [
    "words = list(model.wv.vocab)\n",
    "print(words)"
   ]
  },
  {
   "cell_type": "code",
   "execution_count": 45,
   "metadata": {},
   "outputs": [
    {
     "name": "stdout",
     "output_type": "stream",
     "text": [
      "Word2Vec(vocab=19, size=100, alpha=0.025)\n"
     ]
    }
   ],
   "source": [
    "print(model)"
   ]
  },
  {
   "cell_type": "code",
   "execution_count": 46,
   "metadata": {},
   "outputs": [
    {
     "name": "stdout",
     "output_type": "stream",
     "text": [
      "[ 1.0976176e-03  2.8106570e-03 -2.2034443e-03  4.0227463e-03\n",
      " -1.3383772e-03  2.9752457e-03  2.7122435e-03  1.3512735e-03\n",
      "  3.7325844e-03  7.0674776e-04 -1.9235815e-03  1.6137527e-03\n",
      "  1.7610476e-03  4.9674315e-03  1.1266852e-03  1.3322884e-03\n",
      " -3.4988783e-03 -9.7234047e-04 -4.1977935e-03  4.3989629e-03\n",
      " -9.5110569e-05  6.3255022e-05 -1.1787164e-03  3.8276033e-03\n",
      " -3.6036232e-03  1.6317628e-03 -3.0476458e-03 -4.6080733e-03\n",
      " -4.7499924e-03  1.9398315e-03  1.0449818e-03 -3.4663153e-03\n",
      " -3.9556818e-03 -4.0759183e-03 -3.0755211e-04 -2.1283673e-03\n",
      " -3.4230540e-03 -2.4367033e-03  1.7554895e-03  1.7373721e-03\n",
      "  6.8228098e-04 -2.6531690e-03 -2.5511065e-03  2.6509322e-03\n",
      " -1.3001802e-03  6.7467726e-04 -3.5031012e-03 -4.8664524e-03\n",
      "  1.1719804e-03 -2.6773750e-03 -2.2495321e-03 -2.5944102e-03\n",
      " -3.0073924e-03  3.5927489e-03 -1.9516984e-03 -2.4979811e-03\n",
      " -2.6085617e-03 -2.5965527e-03  1.1102904e-03  1.1031816e-03\n",
      "  4.7963791e-04 -3.8789031e-03 -4.3662969e-04 -2.4297114e-03\n",
      " -2.8910271e-03  4.6238876e-03  2.3817872e-03 -2.2734418e-03\n",
      "  3.9961091e-03  4.8834607e-03 -4.6379995e-03  2.3854510e-03\n",
      "  4.9403380e-03  2.2535254e-03 -2.2350817e-03 -1.3586705e-03\n",
      " -1.8528054e-03  4.0165228e-03 -4.0488245e-04  4.2906613e-03\n",
      " -7.2513061e-04  2.6136360e-03  3.5709204e-04  3.1026299e-03\n",
      "  2.7593039e-03 -4.1172770e-03  2.4845067e-03 -4.8770155e-03\n",
      "  4.6088384e-03  4.5035072e-03 -2.3156251e-03  1.3402024e-04\n",
      " -3.4026324e-03 -2.8419606e-03  4.4875722e-03 -4.7293624e-06\n",
      " -3.2462089e-03  3.3361937e-03  3.0143568e-03  2.3302922e-03]\n"
     ]
    },
    {
     "name": "stderr",
     "output_type": "stream",
     "text": [
      "/Users/mojtaba/anaconda2/lib/python2.7/site-packages/ipykernel_launcher.py:1: DeprecationWarning: Call to deprecated `__getitem__` (Method will be removed in 4.0.0, use self.wv.__getitem__() instead).\n",
      "  \"\"\"Entry point for launching an IPython kernel.\n"
     ]
    }
   ],
   "source": [
    "print(model['order'])"
   ]
  },
  {
   "cell_type": "code",
   "execution_count": 48,
   "metadata": {},
   "outputs": [
    {
     "name": "stdout",
     "output_type": "stream",
     "text": [
      "Word2Vec(vocab=19, size=100, alpha=0.025)\n"
     ]
    }
   ],
   "source": [
    "# save model\n",
    "model.save('model.bin')\n",
    "# load model\n",
    "new_model = gensim.models.Word2Vec.load('model.bin')\n",
    "print(new_model)"
   ]
  },
  {
   "cell_type": "code",
   "execution_count": 49,
   "metadata": {},
   "outputs": [
    {
     "name": "stderr",
     "output_type": "stream",
     "text": [
      "/Users/mojtaba/anaconda2/lib/python2.7/site-packages/ipykernel_launcher.py:1: DeprecationWarning: Call to deprecated `__getitem__` (Method will be removed in 4.0.0, use self.wv.__getitem__() instead).\n",
      "  \"\"\"Entry point for launching an IPython kernel.\n"
     ]
    }
   ],
   "source": [
    "X = model[model.wv.vocab]"
   ]
  },
  {
   "cell_type": "code",
   "execution_count": 52,
   "metadata": {},
   "outputs": [],
   "source": [
    "pca = PCA(n_components=2)\n",
    "result = pca.fit_transform(X)"
   ]
  },
  {
   "cell_type": "code",
   "execution_count": 55,
   "metadata": {},
   "outputs": [
    {
     "data": {
      "text/plain": [
       "<matplotlib.collections.PathCollection at 0x115e04d50>"
      ]
     },
     "execution_count": 55,
     "metadata": {},
     "output_type": "execute_result"
    }
   ],
   "source": [
    "plt.scatter(result[:, 0], result[:, 1])"
   ]
  },
  {
   "cell_type": "code",
   "execution_count": 57,
   "metadata": {},
   "outputs": [
    {
     "data": {
      "image/png": "[encoded data removed]",
      "text/plain": [
       "<Figure size 432x288 with 1 Axes>"
      ]
     },
     "metadata": {},
     "output_type": "display_data"
    }
   ],
   "source": [
    "words = list(model.wv.vocab)\n",
    "for i, word in enumerate(words):\n",
    "\tplt.annotate(word, xy=(result[i, 0], result[i, 1]))\n",
    "plt.show()"
   ]
  },
  {
   "cell_type": "code",
   "execution_count": 61,
   "metadata": {},
   "outputs": [
    {
     "name": "stderr",
     "output_type": "stream",
     "text": [
      "/Users/mojtaba/anaconda2/lib/python2.7/site-packages/ipykernel_launcher.py:10: DeprecationWarning: Call to deprecated `__getitem__` (Method will be removed in 4.0.0, use self.wv.__getitem__() instead).\n",
      "  # Remove the CWD from sys.path while we load stuff.\n"
     ]
    },
    {
     "data": {
      "image/png": "[encoded data removed]",
      "text/plain": [
       "<Figure size 432x288 with 1 Axes>"
      ]
     },
     "metadata": {},
     "output_type": "display_data"
    }
   ],
   "source": [
    "# define training data\n",
    "sentences = [['this', 'is', 'the', 'first', 'sentence', 'for', 'word2vec'],\n",
    "\t\t\t['this', 'is', 'the', 'second', 'sentence'],\n",
    "\t\t\t['yet', 'another', 'sentence'],\n",
    "\t\t\t['one', 'more', 'sentence'],\n",
    "\t\t\t['and', 'the', 'final', 'sentence']]\n",
    "# train model\n",
    "model = gensim.models.Word2Vec(sentences, min_count=1)\n",
    "# fit a 2d PCA model to the vectors\n",
    "X = model[model.wv.vocab]\n",
    "pca = PCA(n_components=2)\n",
    "result = pca.fit_transform(X)\n",
    "# create a scatter plot of the projection\n",
    "plt.scatter(result[:, 0], result[:, 1])\n",
    "words = list(model.wv.vocab)\n",
    "for i, word in enumerate(words):\n",
    "\tplt.annotate(word, xy=(result[i, 0], result[i, 1]))\n",
    "plt.show()"
   ]
  },
  {
   "cell_type": "code",
   "execution_count": null,
   "metadata": {
    "collapsed": true
   },
   "outputs": [],
   "source": []
  }
 ],
 "metadata": {
  "kernelspec": {
   "display_name": "Python 3",
   "language": "python",
   "name": "python3"
  },
  "language_info": {
   "codemirror_mode": {
    "name": "ipython",
    "version": 2
   },
   "file_extension": ".py",
   "mimetype": "text/x-python",
   "name": "python",
   "nbconvert_exporter": "python",
   "pygments_lexer": "ipython2",
   "version": "2.7.14"
  }
 },
 "nbformat": 4,
 "nbformat_minor": 2
}
